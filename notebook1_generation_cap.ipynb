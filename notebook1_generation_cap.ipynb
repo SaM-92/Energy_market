{
 "cells": [
  {
   "cell_type": "code",
   "execution_count": 3,
   "metadata": {},
   "outputs": [],
   "source": [
    "#inputs\n",
    "\n",
    "input_data = {\n",
    "    \"Investment Cost\": {\"value\": 1021, \"unit\": \"$/kW\"},\n",
    "    \"Expected plant life\": {\"value\": 30, \"unit\": \"years\"},\n",
    "    \"Heat rate at rated output\": {\"value\": 9419, \"unit\": \"Btu/kWh\"},\n",
    "    \"Expected fuel cost\": {\"value\": 1.25, \"unit\": \"$/Mbtu\"},\n",
    "    \"Capacity\": {\"value\": 500, \"unit\": \"MW\"}\n",
    "}\n"
   ]
  },
  {
   "cell_type": "code",
   "execution_count": 5,
   "metadata": {},
   "outputs": [],
   "source": [
    "# Assumptions\n",
    "uf=0.8 # utilisation factor (%)\n",
    "elec_price=32 #energy sell price ($/MWh)"
   ]
  },
  {
   "cell_type": "code",
   "execution_count": 9,
   "metadata": {},
   "outputs": [
    {
     "name": "stdout",
     "output_type": "stream",
     "text": [
      "Investment cost:\t510500000\n",
      "Production:\t3504000.0\n",
      "Production Cost:\t41255220.0\n",
      "Revenue:\t112128000.0\n"
     ]
    }
   ],
   "source": [
    "# calculations \n",
    "\n",
    "investment_cost = input_data['Investment Cost']['value']*input_data['Capacity']['value']*1000  #1000 is required to convert MW to kW\n",
    "print(f\"Investment cost:\\t{investment_cost}\")\n",
    "\n",
    "peroid_of_one_year= 24*365\n",
    "production_power = input_data['Capacity']['value'] * uf * peroid_of_one_year\n",
    "print(f\"Production:\\t{production_power}\")\n",
    "\n",
    "production_cost = production_power * input_data['Heat rate at rated output']['value'] * input_data['Expected fuel cost']['value'] * 0.001 #0.001 is required due to $/Mbtu and Btu/kWh\n",
    "print(f\"Production Cost:\\t{production_cost}\")\n",
    "\n",
    "revenue = production_power * elec_price \n",
    "\n",
    "print(f\"Revenue:\\t{revenue}\")\n",
    "\n"
   ]
  },
  {
   "cell_type": "code",
   "execution_count": 10,
   "metadata": {},
   "outputs": [],
   "source": [
    "# Create a DataFrame\n",
    "import pandas as pd \n",
    "df = pd.DataFrame(columns=[\"Year\", \"Investment\", \"Production\", \"Production Cost\", \"Revenue\", \"Net Cash Flow\"])\n",
    "\n",
    "# Fill the DataFrame\n",
    "for year in range(input_data['Expected plant life']['value'] + 1):\n",
    "    if year == 0:\n",
    "        df.loc[year] = [year, investment_cost, 0, 0, 0, -investment_cost]\n",
    "    else:\n",
    "        df.loc[year] = [year, 0, production_power, production_cost, revenue, revenue - production_cost]"
   ]
  },
  {
   "cell_type": "code",
   "execution_count": 12,
   "metadata": {},
   "outputs": [
    {
     "data": {
      "text/html": [
       "<div>\n",
       "<style scoped>\n",
       "    .dataframe tbody tr th:only-of-type {\n",
       "        vertical-align: middle;\n",
       "    }\n",
       "\n",
       "    .dataframe tbody tr th {\n",
       "        vertical-align: top;\n",
       "    }\n",
       "\n",
       "    .dataframe thead th {\n",
       "        text-align: right;\n",
       "    }\n",
       "</style>\n",
       "<table border=\"1\" class=\"dataframe\">\n",
       "  <thead>\n",
       "    <tr style=\"text-align: right;\">\n",
       "      <th></th>\n",
       "      <th>Year</th>\n",
       "      <th>Investment</th>\n",
       "      <th>Production</th>\n",
       "      <th>Production Cost</th>\n",
       "      <th>Revenue</th>\n",
       "      <th>Net Cash Flow</th>\n",
       "    </tr>\n",
       "  </thead>\n",
       "  <tbody>\n",
       "    <tr>\n",
       "      <th>0</th>\n",
       "      <td>0.0</td>\n",
       "      <td>510500000.0</td>\n",
       "      <td>0.0</td>\n",
       "      <td>0.0</td>\n",
       "      <td>0.0</td>\n",
       "      <td>-510500000.0</td>\n",
       "    </tr>\n",
       "    <tr>\n",
       "      <th>1</th>\n",
       "      <td>1.0</td>\n",
       "      <td>0.0</td>\n",
       "      <td>3504000.0</td>\n",
       "      <td>41255220.0</td>\n",
       "      <td>112128000.0</td>\n",
       "      <td>70872780.0</td>\n",
       "    </tr>\n",
       "    <tr>\n",
       "      <th>2</th>\n",
       "      <td>2.0</td>\n",
       "      <td>0.0</td>\n",
       "      <td>3504000.0</td>\n",
       "      <td>41255220.0</td>\n",
       "      <td>112128000.0</td>\n",
       "      <td>70872780.0</td>\n",
       "    </tr>\n",
       "    <tr>\n",
       "      <th>3</th>\n",
       "      <td>3.0</td>\n",
       "      <td>0.0</td>\n",
       "      <td>3504000.0</td>\n",
       "      <td>41255220.0</td>\n",
       "      <td>112128000.0</td>\n",
       "      <td>70872780.0</td>\n",
       "    </tr>\n",
       "    <tr>\n",
       "      <th>4</th>\n",
       "      <td>4.0</td>\n",
       "      <td>0.0</td>\n",
       "      <td>3504000.0</td>\n",
       "      <td>41255220.0</td>\n",
       "      <td>112128000.0</td>\n",
       "      <td>70872780.0</td>\n",
       "    </tr>\n",
       "  </tbody>\n",
       "</table>\n",
       "</div>"
      ],
      "text/plain": [
       "   Year   Investment  Production  Production Cost      Revenue  Net Cash Flow\n",
       "0   0.0  510500000.0         0.0              0.0          0.0   -510500000.0\n",
       "1   1.0          0.0   3504000.0       41255220.0  112128000.0     70872780.0\n",
       "2   2.0          0.0   3504000.0       41255220.0  112128000.0     70872780.0\n",
       "3   3.0          0.0   3504000.0       41255220.0  112128000.0     70872780.0\n",
       "4   4.0          0.0   3504000.0       41255220.0  112128000.0     70872780.0"
      ]
     },
     "execution_count": 12,
     "metadata": {},
     "output_type": "execute_result"
    }
   ],
   "source": [
    "df.head()"
   ]
  },
  {
   "cell_type": "code",
   "execution_count": 17,
   "metadata": {},
   "outputs": [
    {
     "name": "stdout",
     "output_type": "stream",
     "text": [
      "The Internal Rate of Return (IRR) is: 13.578504268341728%\n"
     ]
    }
   ],
   "source": [
    "import numpy_financial as npf\n",
    "\n",
    "# Convert the \"Net Cash Flow\" column to a list\n",
    "cash_flows = df[\"Net Cash Flow\"].tolist()\n",
    "\n",
    "# Calculate the IRR\n",
    "irr = npf.irr(cash_flows)\n",
    "\n",
    "# Convert IRR to percentage\n",
    "irr_percent = irr * 100\n",
    "\n",
    "print(f\"The Internal Rate of Return (IRR) is: {irr_percent}%\")\n"
   ]
  },
  {
   "cell_type": "markdown",
   "metadata": {},
   "source": [
    "### Make it unified "
   ]
  },
  {
   "cell_type": "code",
   "execution_count": 40,
   "metadata": {},
   "outputs": [
    {
     "data": {
      "text/plain": [
       "0.85"
      ]
     },
     "execution_count": 40,
     "metadata": {},
     "output_type": "execute_result"
    }
   ],
   "source": [
    "7446/8760"
   ]
  },
  {
   "cell_type": "code",
   "execution_count": 41,
   "metadata": {},
   "outputs": [
    {
     "name": "stdout",
     "output_type": "stream",
     "text": [
      "Investment cost:\t480000000\n",
      "Production:\t2978400.0\n",
      "Production Cost:\t32107152.000000004\n",
      "Revenue:\t92330400.0\n",
      "The Internal Rate of Return (IRR) is: 12.143516718948643%\n"
     ]
    }
   ],
   "source": [
    "#inputs\n",
    "\n",
    "input_data = {\n",
    "    \"Investment Cost\": {\"value\": 1200, \"unit\": \"$/kW\"},\n",
    "    \"Expected plant life\": {\"value\": 30, \"unit\": \"years\"},\n",
    "    \"Heat rate at rated output\": {\"value\": 9800, \"unit\": \"Btu/kWh\"},\n",
    "    \"Expected fuel cost\": {\"value\": 1.10, \"unit\": \"$/Mbtu\"},\n",
    "    \"Capacity\": {\"value\": 400, \"unit\": \"MW\"}\n",
    "}\n",
    "\n",
    "\n",
    "# Assumptions\n",
    "uf=0.85 # utilisation factor (%)\n",
    "elec_price=31 #energy sell price ($/MWh)\n",
    "\n",
    "\n",
    "# calculations \n",
    "\n",
    "investment_cost = input_data['Investment Cost']['value']*input_data['Capacity']['value']*1000  #1000 is required to convert MW to kW\n",
    "print(f\"Investment cost:\\t{investment_cost}\")\n",
    "\n",
    "peroid_of_one_year= 24*365\n",
    "production_power = input_data['Capacity']['value'] * uf * peroid_of_one_year\n",
    "print(f\"Production:\\t{production_power}\")\n",
    "\n",
    "production_cost = production_power * input_data['Heat rate at rated output']['value'] * input_data['Expected fuel cost']['value'] * 0.001 #0.001 is required due to $/Mbtu and Btu/kWh\n",
    "print(f\"Production Cost:\\t{production_cost}\")\n",
    "\n",
    "revenue = production_power * elec_price \n",
    "\n",
    "print(f\"Revenue:\\t{revenue}\")\n",
    "\n",
    "\n",
    "\n",
    "# Create a DataFrame\n",
    "import pandas as pd \n",
    "df = pd.DataFrame(columns=[\"Year\", \"Investment\", \"Production\", \"Production Cost\", \"Revenue\", \"Net Cash Flow\"])\n",
    "\n",
    "# Fill the DataFrame\n",
    "for year in range(input_data['Expected plant life']['value'] + 1):\n",
    "    if year == 0:\n",
    "        df.loc[year] = [year, investment_cost, 0, 0, 0, -investment_cost]\n",
    "    else:\n",
    "        df.loc[year] = [year, 0, production_power, production_cost, revenue, revenue - production_cost]\n",
    "\n",
    "\n",
    "import numpy_financial as npf\n",
    "\n",
    "# Convert the \"Net Cash Flow\" column to a list\n",
    "cash_flows = df[\"Net Cash Flow\"].tolist()\n",
    "\n",
    "# Calculate the IRR\n",
    "irr = npf.irr(cash_flows)\n",
    "\n",
    "# Convert IRR to percentage\n",
    "irr_percent = irr * 100\n",
    "\n",
    "print(f\"The Internal Rate of Return (IRR) is: {irr_percent}%\")\n"
   ]
  },
  {
   "cell_type": "code",
   "execution_count": 3,
   "metadata": {},
   "outputs": [],
   "source": [
    "import openai\n",
    "import os\n",
    "openai.api_key = os.getenv('OPENAI_TOKEN')"
   ]
  },
  {
   "cell_type": "code",
   "execution_count": 1,
   "metadata": {},
   "outputs": [
    {
     "name": "stdout",
     "output_type": "stream",
     "text": [
      "None\n"
     ]
    }
   ],
   "source": [
    "import os\n",
    "\n",
    "openai_token = os.getenv('OPENAI_TOKEN')\n",
    "print(openai_token)\n"
   ]
  },
  {
   "cell_type": "code",
   "execution_count": 2,
   "metadata": {},
   "outputs": [],
   "source": [
    "openai.api_key"
   ]
  },
  {
   "cell_type": "markdown",
   "metadata": {},
   "source": [
    "### Sensitivity analysis "
   ]
  },
  {
   "cell_type": "code",
   "execution_count": 18,
   "metadata": {},
   "outputs": [
    {
     "data": {
      "image/png": "[encoded data removed]",
      "text/plain": [
       "<Figure size 640x480 with 1 Axes>"
      ]
     },
     "metadata": {},
     "output_type": "display_data"
    }
   ],
   "source": [
    "import numpy_financial as npf\n",
    "import matplotlib.pyplot as plt\n",
    "import pandas as pd\n",
    "import numpy as np\n",
    "\n",
    "# Define the input data\n",
    "input_data = {\n",
    "    \"Investment Cost\": {\"value\": 1021, \"unit\": \"$/kW\"},\n",
    "    \"Expected plant life\": {\"value\": 30, \"unit\": \"years\"},\n",
    "    \"Heat rate at rated output\": {\"value\": 9419, \"unit\": \"Btu/kWh\"},\n",
    "    \"Expected fuel cost\": {\"value\": 1.25, \"unit\": \"$/Mbtu\"},\n",
    "    \"Capacity\": {\"value\": 500, \"unit\": \"MW\"}\n",
    "}\n",
    "\n",
    "\n",
    "# Define the range of electricity prices and utilization factors\n",
    "elec_prices = np.linspace(0, 50, 100)  # replace with your range of electricity prices\n",
    "ufs = [0.5, 0.6,0.7, 0.8, 0.9]  # replace with your range of utilization factors\n",
    "\n",
    "# Calculate the period of one year\n",
    "period_of_one_year = 24 * 365\n",
    "\n",
    "# Create a DataFrame to store the results\n",
    "df = pd.DataFrame(columns=[\"elec_price\", \"uf\", \"IRR\"])\n",
    "\n",
    "# Calculate the IRR for each combination of electricity price and utilization factor\n",
    "for elec_price in elec_prices:\n",
    "    for uf in ufs:\n",
    "        # Calculate the investment cost\n",
    "        investment_cost = input_data['Investment Cost']['value'] * input_data['Capacity']['value'] * 1000  # 1000 is required to convert MW to kW\n",
    "\n",
    "        # Calculate the production power\n",
    "        production_power = input_data['Capacity']['value'] * uf * period_of_one_year\n",
    "\n",
    "        # Calculate the production cost\n",
    "        production_cost = production_power * input_data['Heat rate at rated output']['value'] * input_data['Expected fuel cost']['value'] * 0.001  # 0.001 is required due to $/Mbtu and Btu/kWh\n",
    "\n",
    "        # Calculate the revenue\n",
    "        revenue = production_power * elec_price\n",
    "\n",
    "        # Create a list of net cash flows\n",
    "        cash_flows = [-investment_cost] + [revenue - production_cost] * (input_data['Expected plant life']['value'] -1 )\n",
    "\n",
    "        # Calculate the IRR\n",
    "        irr = npf.irr(cash_flows)\n",
    "\n",
    "        if irr<0:\n",
    "            irr=0\n",
    "\n",
    "        # Convert IRR to percentage\n",
    "        irr_percent = irr * 100\n",
    "\n",
    "        # Add the results to the DataFrame\n",
    "        # df = df.append({\"elec_price\": elec_price, \"uf\": uf, \"IRR\": irr_percent}, ignore_index=True)\n",
    "\n",
    "        # Add the results to the DataFrame\n",
    "        df_to_append = pd.DataFrame([{\"elec_price\": elec_price, \"uf\": uf, \"IRR\": irr_percent}], columns=[\"elec_price\", \"uf\", \"IRR\"])\n",
    "        df = pd.concat([df, df_to_append], ignore_index=True)\n",
    "\n",
    "# Plot the IRR for each utilization factor\n",
    "for uf in ufs:\n",
    "    df_uf = df[df[\"uf\"] == uf]\n",
    "    plt.plot(df_uf[\"elec_price\"], df_uf[\"IRR\"], label=f\"UF = {uf}\")\n",
    "\n",
    "# Set the y-axis limit\n",
    "plt.ylim(0, 30)\n",
    "# plt.xlim(0, 50)\n",
    "\n",
    "# Add a grid\n",
    "plt.grid(True)\n",
    "\n",
    "# Add a horizontal line for the MARR\n",
    "plt.axhline(y=12, color='r', linestyle='--', label=\"MARR = 12%\")\n",
    "\n",
    "plt.xlabel(\"Electricity Price ($/kWh)\")\n",
    "plt.ylabel(\"IRR (%)\")\n",
    "plt.legend()\n",
    "plt.show()\n"
   ]
  },
  {
   "cell_type": "code",
   "execution_count": 56,
   "metadata": {},
   "outputs": [
    {
     "data": {
      "image/png": "[encoded data removed]",
      "text/plain": [
       "<Figure size 640x480 with 1 Axes>"
      ]
     },
     "metadata": {},
     "output_type": "display_data"
    }
   ],
   "source": [
    "import numpy_financial as npf\n",
    "import matplotlib.pyplot as plt\n",
    "import pandas as pd\n",
    "import numpy as np\n",
    "\n",
    "def calculate_and_plot(input_data, elec_prices, ufs,MARR):\n",
    "    # Calculate the period of one year\n",
    "    period_of_one_year = 24 * 365\n",
    "\n",
    "    # Create a DataFrame to store the results\n",
    "    df = pd.DataFrame(columns=[\"elec_price\", \"uf\", \"IRR\"])\n",
    "\n",
    "    # Calculate the IRR for each combination of electricity price and utilization factor\n",
    "    for elec_price in elec_prices:\n",
    "        for uf in ufs:\n",
    "            # Calculate the investment cost\n",
    "            investment_cost = input_data['Investment Cost']['value'] * input_data['Capacity']['value'] * 1000  # 1000 is required to convert MW to kW\n",
    "\n",
    "            # Calculate the production power\n",
    "            production_power = input_data['Capacity']['value'] * uf * period_of_one_year\n",
    "\n",
    "            # Calculate the production cost\n",
    "            production_cost = production_power * input_data['Heat rate at rated output']['value'] * input_data['Expected fuel cost']['value'] * 0.001  # 0.001 is required due to $/Mbtu and Btu/kWh\n",
    "\n",
    "            # Calculate the revenue\n",
    "            revenue = production_power * elec_price\n",
    "\n",
    "            # Create a list of net cash flows\n",
    "            cash_flows = [-investment_cost] + [revenue - production_cost] * (input_data['Expected plant life']['value'] - 1)\n",
    "\n",
    "            # Calculate the IRR\n",
    "            irr = npf.irr(cash_flows)\n",
    "\n",
    "            # If the IRR is negative, set it to 0\n",
    "            if irr < 0:\n",
    "                irr = 0\n",
    "\n",
    "            # Convert IRR to percentage\n",
    "            irr_percent = irr * 100\n",
    "\n",
    "            # Add the results to the DataFrame\n",
    "            df_to_append = pd.DataFrame([{\"elec_price\": elec_price, \"uf\": uf, \"IRR\": irr_percent}], columns=[\"elec_price\", \"uf\", \"IRR\"])\n",
    "            df = pd.concat([df, df_to_append], ignore_index=True)\n",
    "\n",
    "    # Plot the IRR for each utilization factor\n",
    "    for uf in ufs:\n",
    "        df_uf = df[df[\"uf\"] == uf]\n",
    "        plt.plot(df_uf[\"elec_price\"], df_uf[\"IRR\"], label=f\"UF = {uf}\")\n",
    "\n",
    "    # Set the y-axis limit\n",
    "    #plt.ylim(0, 30)\n",
    "\n",
    "    # Add a grid\n",
    "    plt.grid(True)\n",
    "\n",
    "    # Add a horizontal line for the MARR\n",
    "    plt.axhline(y=MARR, color='r', linestyle='--', label=\"MARR = 12%\")\n",
    "\n",
    "    plt.xlabel(\"Electricity Price ($/kWh)\")\n",
    "    plt.ylabel(\"IRR (%)\")\n",
    "    plt.legend()\n",
    "    plt.show()\n",
    "    return df\n",
    "\n",
    "input_data = {\n",
    "    \"Investment Cost\": {\"value\": 1200, \"unit\": \"$/kW\"},\n",
    "    \"Expected plant life\": {\"value\": 30, \"unit\": \"years\"},\n",
    "    \"Heat rate at rated output\": {\"value\": 9800, \"unit\": \"Btu/kWh\"},\n",
    "    \"Expected fuel cost\": {\"value\": 1.10, \"unit\": \"$/Mbtu\"},\n",
    "    \"Capacity\": {\"value\": 400, \"unit\": \"MW\"}\n",
    "}\n",
    "\n",
    "\n",
    "# Assumptions\n",
    "uf=0.85 # utilisation factor (%)\n",
    "elec_price=31 #energy sell price ($/MWh)\n",
    "\n",
    "\n",
    "# Define the range of electricity prices and utilization factors\n",
    "elec_prices = np.linspace(0, 50, 1000)  # replace with your range of electricity prices\n",
    "ufs = [0.5, 0.6, 0.7, 0.85, 0.9]  # replace with your range of utilization factors\n",
    "MARR=13\n",
    "# Call the function\n",
    "xx=calculate_and_plot(input_data, elec_prices, ufs, MARR)\n"
   ]
  },
  {
   "cell_type": "markdown",
   "metadata": {},
   "source": [
    "#### changing uf by year\n"
   ]
  },
  {
   "cell_type": "code",
   "execution_count": 93,
   "metadata": {},
   "outputs": [
    {
     "data": {
      "text/plain": [
       "480000000"
      ]
     },
     "execution_count": 93,
     "metadata": {},
     "output_type": "execute_result"
    }
   ],
   "source": [
    "investment_cost"
   ]
  },
  {
   "cell_type": "code",
   "execution_count": 97,
   "metadata": {},
   "outputs": [
    {
     "data": {
      "text/plain": [
       "[-480000000.0,\n",
       " 60223248.0,\n",
       " 60223248.0,\n",
       " 60223248.0,\n",
       " 60223248.0,\n",
       " 60223248.0,\n",
       " 60223248.0,\n",
       " 60223248.0,\n",
       " 60223248.0,\n",
       " 60223248.0,\n",
       " 60223248.0,\n",
       " 60223248.0,\n",
       " 60223248.0,\n",
       " 60223248.0,\n",
       " 60223248.0,\n",
       " 60223248.0,\n",
       " 60223248.0,\n",
       " 60223248.0,\n",
       " 60223248.0,\n",
       " 60223248.0,\n",
       " 60223248.0,\n",
       " 60223248.0,\n",
       " 60223248.0,\n",
       " 60223248.0,\n",
       " 60223248.0,\n",
       " 60223248.0,\n",
       " 60223248.0,\n",
       " 60223248.0,\n",
       " 60223248.0,\n",
       " 60223248.0,\n",
       " 60223248.0]"
      ]
     },
     "execution_count": 97,
     "metadata": {},
     "output_type": "execute_result"
    }
   ],
   "source": [
    "cash_flows"
   ]
  },
  {
   "cell_type": "code",
   "execution_count": 98,
   "metadata": {},
   "outputs": [
    {
     "name": "stdout",
     "output_type": "stream",
     "text": [
      "1\n",
      "2\n",
      "3\n",
      "4\n",
      "5\n",
      "6\n",
      "7\n",
      "8\n",
      "9\n",
      "10\n",
      "11\n",
      "12\n",
      "13\n",
      "14\n",
      "15\n",
      "16\n",
      "17\n",
      "18\n",
      "19\n",
      "20\n",
      "21\n",
      "22\n",
      "23\n",
      "24\n",
      "25\n",
      "26\n",
      "27\n",
      "28\n",
      "29\n"
     ]
    }
   ],
   "source": [
    "for year in range(1, input_data['Expected plant life']['value'] ):\n",
    "    print(year)"
   ]
  },
  {
   "cell_type": "code",
   "execution_count": 119,
   "metadata": {},
   "outputs": [],
   "source": [
    "def calculate_irr_with_variable_utilization(input_data, initial_uf, initial_elec_price, MARR):\n",
    "    period_of_one_year = 24 * 365\n",
    "\n",
    "    # Calculate the investment cost\n",
    "    investment_cost = input_data['Investment Cost']['value'] * input_data['Capacity']['value'] * 1000\n",
    "\n",
    "    # List to store annual cash flows\n",
    "    cash_flows = [-investment_cost]\n",
    "\n",
    "    uf = initial_uf\n",
    "    # Iterate through each year of the plant's life\n",
    "    # for year in range(1, input_data['Expected plant life']['value'] ):\n",
    "    #     if year >= 20:\n",
    "    #         uf = initial_uf * 0.85 * 0.85\n",
    "    #         elec_price\n",
    "    #     elif year >= 10:\n",
    "    #         uf = initial_uf * 0.85\n",
    "    #     else:\n",
    "    #         uf = initial_uf\n",
    "\n",
    "    # for year in range(1, input_data['Expected plant life']['value'] ):\n",
    "    #     if year <=10:\n",
    "    #        elec_price = initial_elec_price\n",
    "    #     else:\n",
    "    #         elec_price = initial_elec_price - 4\n",
    "\n",
    "    for year in range(1, input_data['Expected plant life']['value'] ):\n",
    "        if year <=20:\n",
    "           elec_price = 31\n",
    "        else:\n",
    "            elec_price = 35   \n",
    "\n",
    "\n",
    "        # Calculate annual production power\n",
    "        production_power = input_data['Capacity']['value'] * uf * period_of_one_year\n",
    "\n",
    "        # Calculate annual production cost\n",
    "        production_cost = production_power * input_data['Heat rate at rated output']['value'] * input_data['Expected fuel cost']['value'] * 0.001\n",
    "\n",
    "        # Calculate annual revenue\n",
    "        revenue = production_power * elec_price\n",
    "\n",
    "        # Annual net cash flow\n",
    "        net_cash_flow = revenue - production_cost\n",
    "\n",
    "        # Append to cash flows\n",
    "        cash_flows.append(net_cash_flow)\n",
    "\n",
    "    # Calculate the IRR\n",
    "    irr = npf.irr(cash_flows)\n",
    "    irr=irr*100\n",
    "    return irr\n",
    "\n",
    "# Usage of the function\n",
    "initial_uf = 0.85  # Initial utilization factor\n",
    "elec_price = 35   # Convert $/MWh to $/kWh\n",
    "MARR = 13  # Minimum Acceptable Rate of Return\n",
    "irr_with_changes = calculate_irr_with_variable_utilization(input_data, initial_uf, elec_price, MARR)\n"
   ]
  },
  {
   "cell_type": "code",
   "execution_count": 120,
   "metadata": {},
   "outputs": [
    {
     "data": {
      "text/plain": [
       "12.267567213330132"
      ]
     },
     "execution_count": 120,
     "metadata": {},
     "output_type": "execute_result"
    }
   ],
   "source": [
    "irr_with_changes"
   ]
  },
  {
   "cell_type": "code",
   "execution_count": 122,
   "metadata": {},
   "outputs": [],
   "source": [
    "def calculate_irr_with_variable_utilization(input_data, initial_uf, elec_price_scenario):\n",
    "    period_of_one_year = 24 * 365\n",
    "    investment_cost = input_data['Investment Cost']['value'] * input_data['Capacity']['value'] * 1000\n",
    "    cash_flows = [-investment_cost]\n",
    "\n",
    "    for year in range(1, input_data['Expected plant life']['value']):\n",
    "        # Set electricity price based on the year and scenario\n",
    "        if elec_price_scenario == \"scenario1\":\n",
    "            elec_price = 35 if year <= 10 else 31  # First scenario\n",
    "        elif elec_price_scenario == \"scenario2\":\n",
    "            elec_price = 31 if year <= 20 else 35  # Second scenario\n",
    "\n",
    "        production_power = input_data['Capacity']['value'] * initial_uf * period_of_one_year\n",
    "        production_cost = production_power * input_data['Heat rate at rated output']['value'] * input_data['Expected fuel cost']['value'] * 0.001\n",
    "        revenue = production_power * elec_price\n",
    "        net_cash_flow = revenue - production_cost\n",
    "        cash_flows.append(net_cash_flow)\n",
    "\n",
    "    irr = npf.irr(cash_flows) * 100  # Convert to percentage\n",
    "    return irr\n",
    "\n",
    "# Call the function for each scenario\n",
    "input_data = {\n",
    "    \"Investment Cost\": {\"value\": 1200, \"unit\": \"$/kW\"},\n",
    "    \"Expected plant life\": {\"value\": 30, \"unit\": \"years\"},\n",
    "    \"Heat rate at rated output\": {\"value\": 9800, \"unit\": \"Btu/kWh\"},\n",
    "    \"Expected fuel cost\": {\"value\": 1.10, \"unit\": \"$/Mbtu\"},\n",
    "    \"Capacity\": {\"value\": 400, \"unit\": \"MW\"}\n",
    "}\n",
    "\n",
    "initial_uf = 0.85\n",
    "MARR = 13\n",
    "\n",
    "irr_scenario1 = calculate_irr_with_variable_utilization(input_data, initial_uf, \"scenario1\")\n",
    "irr_scenario2 = calculate_irr_with_variable_utilization(input_data, initial_uf, \"scenario2\")\n"
   ]
  },
  {
   "cell_type": "code",
   "execution_count": 123,
   "metadata": {},
   "outputs": [
    {
     "data": {
      "text/plain": [
       "14.08987895613052"
      ]
     },
     "execution_count": 123,
     "metadata": {},
     "output_type": "execute_result"
    }
   ],
   "source": [
    "irr_scenario1"
   ]
  },
  {
   "cell_type": "code",
   "execution_count": 124,
   "metadata": {},
   "outputs": [
    {
     "data": {
      "text/plain": [
       "12.267567213330132"
      ]
     },
     "execution_count": 124,
     "metadata": {},
     "output_type": "execute_result"
    }
   ],
   "source": [
    "irr_scenario2"
   ]
  },
  {
   "cell_type": "code",
   "execution_count": 163,
   "metadata": {},
   "outputs": [],
   "source": [
    "\n",
    "\n",
    "period_of_one_year = 24 * 365\n",
    "investment_cost = input_data['Investment Cost']['value'] * 100 * 1000\n",
    "fixed_costs=360000\n",
    "uf = 0.01\n",
    "fuel_cost_ = 2.90\n",
    "production_power = 100 * uf * period_of_one_year\n",
    "heat_rate= 13000\n",
    "production_cost = production_power * heat_rate * fuel_cost_ * 0.001\n",
    "\n",
    "revenue = production_power * elec_price\n",
    "net_cash_flow = revenue - fixed_costs - production_cost\n"
   ]
  },
  {
   "cell_type": "code",
   "execution_count": 165,
   "metadata": {},
   "outputs": [
    {
     "data": {
      "text/plain": [
       "78.7958904109589"
      ]
     },
     "execution_count": 165,
     "metadata": {},
     "output_type": "execute_result"
    }
   ],
   "source": [
    "(fixed_costs + production_cost)/production_power"
   ]
  },
  {
   "cell_type": "code",
   "execution_count": 171,
   "metadata": {},
   "outputs": [
    {
     "data": {
      "text/plain": [
       "38.110958904109594"
      ]
     },
     "execution_count": 171,
     "metadata": {},
     "output_type": "execute_result"
    }
   ],
   "source": [
    "heat_rate * fuel_cost_ * 0.001 +0.410958904109589\n"
   ]
  },
  {
   "cell_type": "code",
   "execution_count": 168,
   "metadata": {},
   "outputs": [
    {
     "data": {
      "text/plain": [
       "0.410958904109589"
      ]
     },
     "execution_count": 168,
     "metadata": {},
     "output_type": "execute_result"
    }
   ],
   "source": [
    "360000/(8760*100)"
   ]
  },
  {
   "cell_type": "code",
   "execution_count": 167,
   "metadata": {},
   "outputs": [
    {
     "data": {
      "text/plain": [
       "78.7958904109589"
      ]
     },
     "execution_count": 167,
     "metadata": {},
     "output_type": "execute_result"
    }
   ],
   "source": [
    "# Constants\n",
    "capacity_mw = 100  # MW\n",
    "hours_in_year = 8760  # hours\n",
    "utilization_rate = 0.01  # 1%\n",
    "heat_rate = 13000  # Btu/kWh\n",
    "fuel_cost_per_mbtu = 2.90  # $/MBtu\n",
    "fixed_cost_per_year = 360000  # $\n",
    "conversion_factor = 0.001  # $/MBtu to $/kWh\n",
    "\n",
    "# Annual Production at 1% utilization rate (in MWh)\n",
    "annual_production_mwh = capacity_mw * hours_in_year * utilization_rate\n",
    "\n",
    "# Annual Fuel Cost\n",
    "annual_fuel_cost = annual_production_mwh * heat_rate * fuel_cost_per_mbtu * conversion_factor\n",
    "\n",
    "# Total Annual Cost (Fixed + Variable)\n",
    "total_annual_cost = fixed_cost_per_year + annual_fuel_cost\n",
    "\n",
    "# Minimum Price per MWh\n",
    "minimum_price_per_mwh = total_annual_cost / annual_production_mwh\n",
    "\n",
    "# Average Production Cost Calculation\n",
    "# Variable Cost per MWh\n",
    "variable_cost_per_mwh = heat_rate * fuel_cost_per_mbtu * conversion_factor\n",
    "\n",
    "# Fixed Cost Contribution per MWh (based on full capacity)\n",
    "fixed_cost_contribution_per_mwh = fixed_cost_per_year / (capacity_mw * hours_in_year)\n",
    "\n",
    "# Average Production Cost per MWh\n",
    "average_production_cost_per_mwh = variable_cost_per_mwh + fixed_cost_contribution_per_mwh\n",
    "\n",
    "minimum_price_per_mwh, average_production_cost_per_mwh\n",
    "\n"
   ]
  },
  {
   "cell_type": "code",
   "execution_count": 161,
   "metadata": {},
   "outputs": [],
   "source": [
    "def calculate_irr_with_variable_utilization(input_data, initial_uf, elec_price_scenario):\n",
    "    period_of_one_year = 24 * 365\n",
    "    investment_cost = input_data['Investment Cost']['value'] * input_data['Capacity']['value'] * 1000\n",
    "    cash_flows = [-investment_cost]\n",
    "\n",
    "    uf = 0.85\n",
    "    fuel_cost_=1.10\n",
    "    repairing_cost=0\n",
    "    for year in range(1, input_data['Expected plant life']['value']):\n",
    "        # Set electricity price based on the year and scenario\n",
    "        if elec_price_scenario == \"scenario1\":\n",
    "            elec_price = 30   # First scenario\n",
    "        # elif elec_price_scenario == \"scenario2\":\n",
    "        #     elec_price = 25 if year > 5 else 31  # Second scenario\n",
    "        #     fuel_cost_= 1.5 if year > 5 else 1.10\n",
    "        #     uf= 0.45 if year > 5 else 0.85\n",
    "        #     repairing_cost = 120000000 if year ==11 else 0 \n",
    "        elif elec_price_scenario == \"scenario2\":\n",
    "            elec_price =  31  # Second scenario\n",
    "            fuel_cost_=  1.10\n",
    "            uf= 0.85\n",
    "            repairing_cost = 120000000 if year ==15 else 0     \n",
    "\n",
    "        # production_power = input_data['Capacity']['value'] *initial_uf * period_of_one_year\n",
    "        production_power = input_data['Capacity']['value'] * uf * period_of_one_year\n",
    "        # production_cost = production_power * input_data['Heat rate at rated output']['value'] * input_data['Expected fuel cost']['value'] * 0.001\n",
    "        production_cost = production_power * input_data['Heat rate at rated output']['value'] * fuel_cost_ * 0.001\n",
    "       \n",
    "        revenue = production_power * elec_price\n",
    "        net_cash_flow = revenue - production_cost - repairing_cost\n",
    "        cash_flows.append(net_cash_flow)\n",
    "\n",
    "    irr = npf.irr(cash_flows) * 100  # Convert to percentage\n",
    "    return irr,cash_flows\n",
    "\n",
    "# Call the function for each scenario\n",
    "input_data_A = {\n",
    "    \"Investment Cost\": {\"value\": 1100, \"unit\": \"$/kW\"},\n",
    "    \"Expected plant life\": {\"value\": 30, \"unit\": \"years\"},\n",
    "    \"Heat rate at rated output\": {\"value\": 7500, \"unit\": \"Btu/kWh\"},\n",
    "    \"Expected fuel cost\": {\"value\": 1.15, \"unit\": \"$/Mbtu\"},\n",
    "    \"Capacity\": {\"value\": 600, \"unit\": \"MW\"}\n",
    "}\n",
    "\n",
    "input_data_B = {\n",
    "    \"Investment Cost\": {\"value\": 650, \"unit\": \"$/kW\"},\n",
    "    \"Expected plant life\": {\"value\": 30, \"unit\": \"years\"},\n",
    "    \"Heat rate at rated output\": {\"value\": 6500, \"unit\": \"Btu/kWh\"},\n",
    "    \"Expected fuel cost\": {\"value\": 2.75, \"unit\": \"$/Mbtu\"},\n",
    "    \"Capacity\": {\"value\": 600, \"unit\": \"MW\"}\n",
    "}\n",
    "\n",
    "input_data_C = {\n",
    "    \"Investment Cost\": {\"value\": 1000, \"unit\": \"$/kW\"},\n",
    "    \"Expected plant life\": {\"value\": 30, \"unit\": \"years\"},\n",
    "    \"Heat rate at rated output\": {\"value\": 9800, \"unit\": \"Btu/kWh\"},\n",
    "    \"Expected fuel cost\": {\"value\": 1.10, \"unit\": \"$/Mbtu\"},\n",
    "    \"Capacity\": {\"value\": 400, \"unit\": \"MW\"}\n",
    "}\n",
    "\n",
    "initial_uf = 0.85\n",
    "MARR = 13\n",
    "\n",
    "# irr_technology_A = calculate_irr_with_variable_utilization(input_data_A, initial_uf, \"scenario1\")\n",
    "# irr_technology_B = calculate_irr_with_variable_utilization(input_data_B, initial_uf, \"scenario1\")\n",
    "irr_technology_C,cash_flow1 = calculate_irr_with_variable_utilization(input_data_C, initial_uf, \"scenario2\")\n",
    "\n",
    "\n",
    "# irr_scenario2 = calculate_irr_with_variable_utilization(input_data, initial_uf, \"scenario2\")\n"
   ]
  },
  {
   "cell_type": "code",
   "execution_count": 162,
   "metadata": {},
   "outputs": [
    {
     "data": {
      "text/plain": [
       "14.148243659609117"
      ]
     },
     "execution_count": 162,
     "metadata": {},
     "output_type": "execute_result"
    }
   ],
   "source": [
    "irr_technology_C\n"
   ]
  },
  {
   "cell_type": "code",
   "execution_count": 154,
   "metadata": {},
   "outputs": [
    {
     "data": {
      "text/plain": [
       "[-400000000,\n",
       " 60223248.0,\n",
       " 60223248.0,\n",
       " 60223248.0,\n",
       " 60223248.0,\n",
       " 60223248.0,\n",
       " 16241040.0,\n",
       " 16241040.0,\n",
       " 16241040.0,\n",
       " 16241040.0,\n",
       " 16241040.0,\n",
       " -103758960.0,\n",
       " 16241040.0,\n",
       " 16241040.0,\n",
       " 16241040.0,\n",
       " 16241040.0,\n",
       " 16241040.0,\n",
       " 16241040.0,\n",
       " 16241040.0,\n",
       " 16241040.0,\n",
       " 16241040.0,\n",
       " 16241040.0,\n",
       " 16241040.0,\n",
       " 16241040.0,\n",
       " 16241040.0,\n",
       " 16241040.0,\n",
       " 16241040.0,\n",
       " 16241040.0,\n",
       " 16241040.0,\n",
       " 16241040.0]"
      ]
     },
     "execution_count": 154,
     "metadata": {},
     "output_type": "execute_result"
    }
   ],
   "source": [
    "cash_flow1\n"
   ]
  },
  {
   "cell_type": "code",
   "execution_count": 150,
   "metadata": {},
   "outputs": [],
   "source": [
    "def calculate_irr_with_variable_utilization(input_data, initial_uf, elec_price_scenario):\n",
    "    period_of_one_year = 24 * 365\n",
    "    investment_cost = input_data['Investment Cost']['value'] * input_data['Capacity']['value'] * 1000  # Convert MW to kW\n",
    "    cash_flows = [-investment_cost]  # Initial investment cost\n",
    "\n",
    "    # Variables for fuel cost and utilization factor need to be initialized outside the loop\n",
    "    fuel_cost_ = input_data['Expected fuel cost']['value']\n",
    "    uf = initial_uf\n",
    "\n",
    "    for year in range(1, input_data['Expected plant life']['value'] + 1):  # Loop should run for the plant's expected life\n",
    "        # Adjust the electricity price, fuel cost, and utilization factor after the fifth year\n",
    "        if elec_price_scenario == \"scenario2\" and year > 5:\n",
    "            elec_price = 25   # Convert $/MWh to $/kWh for revenue calculation\n",
    "            fuel_cost_ = 1.5\n",
    "            uf = 0.45\n",
    "        else:\n",
    "            elec_price = 31   # Convert $/MWh to $/kWh for revenue calculation\n",
    "\n",
    "        production_power = input_data['Capacity']['value'] * uf * period_of_one_year\n",
    "        production_cost = production_power * input_data['Heat rate at rated output']['value'] * fuel_cost_ * 0.001  # Convert Btu/kWh to MMBtu/kWh for cost calculation\n",
    "        revenue = production_power * elec_price  # Revenue is based on electricity price and production\n",
    "        net_cash_flow = revenue - production_cost  # Net cash flow for the year\n",
    "        cash_flows.append(net_cash_flow)  # Append the annual net cash flow to the list\n",
    "\n",
    "    irr = npf.irr(cash_flows) * 100  # Calculate IRR and convert to percentage\n",
    "    return irr, cash_flows\n",
    "\n",
    "# Call the function for Scenario 2\n",
    "initial_uf = 0.85  # Initial utilization factor\n",
    "irr_technology_C, cash_flow1 = calculate_irr_with_variable_utilization(input_data_C, initial_uf, \"scenario2\")\n"
   ]
  },
  {
   "cell_type": "code",
   "execution_count": 151,
   "metadata": {},
   "outputs": [
    {
     "data": {
      "text/plain": [
       "[-400000000,\n",
       " 60223248.0,\n",
       " 60223248.0,\n",
       " 60223248.0,\n",
       " 60223248.0,\n",
       " 60223248.0,\n",
       " 16241040.0,\n",
       " 16241040.0,\n",
       " 16241040.0,\n",
       " 16241040.0,\n",
       " 16241040.0,\n",
       " 16241040.0,\n",
       " 16241040.0,\n",
       " 16241040.0,\n",
       " 16241040.0,\n",
       " 16241040.0,\n",
       " 16241040.0,\n",
       " 16241040.0,\n",
       " 16241040.0,\n",
       " 16241040.0,\n",
       " 16241040.0,\n",
       " 16241040.0,\n",
       " 16241040.0,\n",
       " 16241040.0,\n",
       " 16241040.0,\n",
       " 16241040.0,\n",
       " 16241040.0,\n",
       " 16241040.0,\n",
       " 16241040.0,\n",
       " 16241040.0,\n",
       " 16241040.0]"
      ]
     },
     "execution_count": 151,
     "metadata": {},
     "output_type": "execute_result"
    }
   ],
   "source": [
    "cash_flow1"
   ]
  },
  {
   "cell_type": "markdown",
   "metadata": {},
   "source": [
    "#### incremental net cash flow\n",
    "\n",
    "#### mutually exclusive investment alternatives"
   ]
  },
  {
   "cell_type": "code",
   "execution_count": 37,
   "metadata": {},
   "outputs": [],
   "source": [
    "import numpy_financial as npf\n",
    "import pandas as pd\n",
    "\n",
    "def calculate_incremental_cash_flow(input_data1, input_data2, elec_price, uf):\n",
    "    # Calculate the period of one year\n",
    "    period_of_one_year = 24 * 365\n",
    "\n",
    "    # Create a DataFrame to store the results\n",
    "    df = pd.DataFrame(columns=[\"Year\", \"Plant1 Investment\", \"Plant2 Investment\", \"Plant1 Production Cost\", \"Plant2 Production Cost\", \"Incremental Net Cash Flow\"])\n",
    "\n",
    "    for year in range(input_data1['Expected plant life']['value'] + 1):\n",
    "        # Calculate the investment cost for each plant\n",
    "        if year == 0:\n",
    "            investment_cost1 = input_data1['Investment Cost']['value'] * input_data1['Capacity']['value'] * 1000\n",
    "            investment_cost2 = input_data2['Investment Cost']['value'] * input_data2['Capacity']['value'] * 1000\n",
    "        else:\n",
    "            investment_cost1 = 0\n",
    "            investment_cost2 = 0\n",
    "\n",
    "        # Calculate the production power for each plant\n",
    "        production_power1 = input_data1['Capacity']['value'] * uf * period_of_one_year\n",
    "        production_power2 = input_data2['Capacity']['value'] * uf * period_of_one_year\n",
    "\n",
    "        # Calculate the production cost for each plant\n",
    "        production_cost1 = production_power1 * input_data1['Heat rate at rated output']['value'] * input_data1['Expected fuel cost']['value'] * 0.001\n",
    "        production_cost2 = production_power2 * input_data2['Heat rate at rated output']['value'] * input_data2['Expected fuel cost']['value'] * 0.001\n",
    "\n",
    "        if year == 0:\n",
    "            production_cost1 = 0\n",
    "            production_cost2 = 0\n",
    "\n",
    "        # revenue\n",
    "        revenue1 = production_power1 * elec_price \n",
    "        revenue2 = production_power1 * elec_price \n",
    "\n",
    "        # Calculate the incremental net cash flow\n",
    "        incremental_net_cash_flow = (investment_cost1 - investment_cost2) + (production_cost1 - production_cost2) +(revenue1-revenue2)\n",
    "\n",
    "        # Add the results to the DataFrame\n",
    "        df_to_append = pd.DataFrame([{\"Year\": year, \"Plant1 Investment\": investment_cost1, \"Plant2 Investment\": investment_cost2, \"Plant1 Production Cost\": production_cost1, \"Plant2 Production Cost\": production_cost2, \"Incremental Net Cash Flow\": incremental_net_cash_flow}], columns=[\"Year\", \"Plant1 Investment\", \"Plant2 Investment\", \"Plant1 Production Cost\", \"Plant2 Production Cost\", \"Incremental Net Cash Flow\"])\n",
    "        df = pd.concat([df, df_to_append], ignore_index=True)\n",
    "\n",
    "    # Calculate the IRR for the incremental net cash flow\n",
    "    irr = npf.irr(df[\"Incremental Net Cash Flow\"].tolist())\n",
    "    if irr < 0:\n",
    "        irr = 0\n",
    "    irr_percent = irr * 100\n",
    "\n",
    "    print(f\"The IRR for the incremental net cash flow is: {irr_percent}%\")\n",
    "\n",
    "    return df,irr_percent\n"
   ]
  },
  {
   "cell_type": "code",
   "execution_count": 38,
   "metadata": {},
   "outputs": [
    {
     "name": "stdout",
     "output_type": "stream",
     "text": [
      "The IRR for the incremental net cash flow is: 12.563615712403763%\n"
     ]
    }
   ],
   "source": [
    "input_data_CCGT = {\n",
    "    \"Investment Cost\": {\"value\": 533, \"unit\": \"$/kW\"},\n",
    "    \"Expected plant life\": {\"value\": 30, \"unit\": \"years\"},\n",
    "    \"Heat rate at rated output\": {\"value\": 6927, \"unit\": \"Btu/kWh\"},\n",
    "    \"Expected fuel cost\": {\"value\": 3, \"unit\": \"$/Mbtu\"},\n",
    "    \"Capacity\": {\"value\": 500, \"unit\": \"MW\"}\n",
    "}\n",
    "\n",
    "#inputs\n",
    "\n",
    "input_data_coal = {\n",
    "    \"Investment Cost\": {\"value\": 1021, \"unit\": \"$/kW\"},\n",
    "    \"Expected plant life\": {\"value\": 30, \"unit\": \"years\"},\n",
    "    \"Heat rate at rated output\": {\"value\": 9419, \"unit\": \"Btu/kWh\"},\n",
    "    \"Expected fuel cost\": {\"value\": 1.25, \"unit\": \"$/Mbtu\"},\n",
    "    \"Capacity\": {\"value\": 500, \"unit\": \"MW\"}\n",
    "}\n",
    "\n",
    "uf= 0.8 \n",
    "\n",
    "\n",
    "df_,Irr_=calculate_incremental_cash_flow(input_data_CCGT, input_data_coal, elec_price, uf)"
   ]
  },
  {
   "cell_type": "code",
   "execution_count": 134,
   "metadata": {},
   "outputs": [
    {
     "name": "stdout",
     "output_type": "stream",
     "text": [
      "The IRR for the incremental net cash flow is: 14.132265752186445%\n"
     ]
    }
   ],
   "source": [
    "# Call the function for each scenario\n",
    "input_data_A = {\n",
    "    \"Investment Cost\": {\"value\": 1100, \"unit\": \"$/kW\"},\n",
    "    \"Expected plant life\": {\"value\": 30, \"unit\": \"years\"},\n",
    "    \"Heat rate at rated output\": {\"value\": 7500, \"unit\": \"Btu/kWh\"},\n",
    "    \"Expected fuel cost\": {\"value\": 1.15, \"unit\": \"$/Mbtu\"},\n",
    "    \"Capacity\": {\"value\": 600, \"unit\": \"MW\"}\n",
    "}\n",
    "\n",
    "input_data_B = {\n",
    "    \"Investment Cost\": {\"value\": 650, \"unit\": \"$/kW\"},\n",
    "    \"Expected plant life\": {\"value\": 30, \"unit\": \"years\"},\n",
    "    \"Heat rate at rated output\": {\"value\": 6500, \"unit\": \"Btu/kWh\"},\n",
    "    \"Expected fuel cost\": {\"value\": 2.75, \"unit\": \"$/Mbtu\"},\n",
    "    \"Capacity\": {\"value\": 600, \"unit\": \"MW\"}\n",
    "}\n",
    "\n",
    "\n",
    "\n",
    "uf= 0.8 \n",
    "\n",
    "elec_price=30 \n",
    "\n",
    "df_,Irr_=calculate_incremental_cash_flow(input_data_A, input_data_B, elec_price, uf)"
   ]
  },
  {
   "cell_type": "code",
   "execution_count": 30,
   "metadata": {},
   "outputs": [
    {
     "data": {
      "text/plain": [
       "12.563615712403763"
      ]
     },
     "execution_count": 30,
     "metadata": {},
     "output_type": "execute_result"
    }
   ],
   "source": [
    "Irr_"
   ]
  },
  {
   "cell_type": "code",
   "execution_count": 34,
   "metadata": {},
   "outputs": [
    {
     "data": {
      "text/html": [
       "<div>\n",
       "<style scoped>\n",
       "    .dataframe tbody tr th:only-of-type {\n",
       "        vertical-align: middle;\n",
       "    }\n",
       "\n",
       "    .dataframe tbody tr th {\n",
       "        vertical-align: top;\n",
       "    }\n",
       "\n",
       "    .dataframe thead th {\n",
       "        text-align: right;\n",
       "    }\n",
       "</style>\n",
       "<table border=\"1\" class=\"dataframe\">\n",
       "  <thead>\n",
       "    <tr style=\"text-align: right;\">\n",
       "      <th></th>\n",
       "      <th>uf</th>\n",
       "      <th>IRR</th>\n",
       "    </tr>\n",
       "  </thead>\n",
       "  <tbody>\n",
       "    <tr>\n",
       "      <th>0</th>\n",
       "      <td>0.500000</td>\n",
       "      <td>7.031772</td>\n",
       "    </tr>\n",
       "    <tr>\n",
       "      <th>1</th>\n",
       "      <td>0.666667</td>\n",
       "      <td>10.193092</td>\n",
       "    </tr>\n",
       "    <tr>\n",
       "      <th>2</th>\n",
       "      <td>0.833333</td>\n",
       "      <td>13.142256</td>\n",
       "    </tr>\n",
       "    <tr>\n",
       "      <th>3</th>\n",
       "      <td>1.000000</td>\n",
       "      <td>15.979409</td>\n",
       "    </tr>\n",
       "  </tbody>\n",
       "</table>\n",
       "</div>"
      ],
      "text/plain": [
       "         uf        IRR\n",
       "0  0.500000   7.031772\n",
       "1  0.666667  10.193092\n",
       "2  0.833333  13.142256\n",
       "3  1.000000  15.979409"
      ]
     },
     "execution_count": 34,
     "metadata": {},
     "output_type": "execute_result"
    }
   ],
   "source": [
    "df_irr"
   ]
  },
  {
   "cell_type": "code",
   "execution_count": 36,
   "metadata": {},
   "outputs": [
    {
     "name": "stdout",
     "output_type": "stream",
     "text": [
      "The IRR for the incremental net cash flow is: 0%\n",
      "The IRR for the incremental net cash flow is: 6.358103059561504%\n",
      "The IRR for the incremental net cash flow is: 11.390987886941705%\n",
      "The IRR for the incremental net cash flow is: 15.979408819698504%\n"
     ]
    },
    {
     "name": "stderr",
     "output_type": "stream",
     "text": [
      "C:\\Users\\saeed.misaghian\\AppData\\Local\\Temp\\ipykernel_21108\\1524445628.py:12: FutureWarning: The frame.append method is deprecated and will be removed from pandas in a future version. Use pandas.concat instead.\n",
      "  df_irr = df_irr.append({\"uf\": uf, \"IRR\": irr}, ignore_index=True)\n",
      "C:\\Users\\saeed.misaghian\\AppData\\Local\\Temp\\ipykernel_21108\\1524445628.py:12: FutureWarning: The frame.append method is deprecated and will be removed from pandas in a future version. Use pandas.concat instead.\n",
      "  df_irr = df_irr.append({\"uf\": uf, \"IRR\": irr}, ignore_index=True)\n",
      "C:\\Users\\saeed.misaghian\\AppData\\Local\\Temp\\ipykernel_21108\\1524445628.py:12: FutureWarning: The frame.append method is deprecated and will be removed from pandas in a future version. Use pandas.concat instead.\n",
      "  df_irr = df_irr.append({\"uf\": uf, \"IRR\": irr}, ignore_index=True)\n",
      "C:\\Users\\saeed.misaghian\\AppData\\Local\\Temp\\ipykernel_21108\\1524445628.py:12: FutureWarning: The frame.append method is deprecated and will be removed from pandas in a future version. Use pandas.concat instead.\n",
      "  df_irr = df_irr.append({\"uf\": uf, \"IRR\": irr}, ignore_index=True)\n"
     ]
    },
    {
     "data": {
      "image/png": "[encoded data removed]",
      "text/plain": [
       "<Figure size 640x480 with 1 Axes>"
      ]
     },
     "metadata": {},
     "output_type": "display_data"
    }
   ],
   "source": [
    "import matplotlib.pyplot as plt\n",
    "\n",
    "# Define the range of utilization factors\n",
    "ufs = np.linspace(0.2, 1.0, 4)  # replace with your range of utilization factors\n",
    "\n",
    "# Create a DataFrame to store the results\n",
    "df_irr = pd.DataFrame(columns=[\"uf\", \"IRR\"])\n",
    "\n",
    "# Calculate the IRR for each utilization factor\n",
    "for uf in ufs:\n",
    "    df, irr = calculate_incremental_cash_flow(input_data_CCGT, input_data_coal, elec_price, uf)\n",
    "    df_irr = df_irr.append({\"uf\": uf, \"IRR\": irr}, ignore_index=True)\n",
    "\n",
    "# Plot the IRR for each utilization factor\n",
    "plt.plot(df_irr[\"uf\"], df_irr[\"IRR\"])\n",
    "plt.xlabel(\"Utilization Factor\")\n",
    "plt.ylabel(\"IRR (%)\")\n",
    "plt.grid(True)\n",
    "plt.show()\n"
   ]
  },
  {
   "cell_type": "code",
   "execution_count": null,
   "metadata": {},
   "outputs": [],
   "source": []
  }
 ],
 "metadata": {
  "kernelspec": {
   "display_name": "base",
   "language": "python",
   "name": "python3"
  },
  "language_info": {
   "codemirror_mode": {
    "name": "ipython",
    "version": 3
   },
   "file_extension": ".py",
   "mimetype": "text/x-python",
   "name": "python",
   "nbconvert_exporter": "python",
   "pygments_lexer": "ipython3",
   "version": "3.10.13"
  }
 },
 "nbformat": 4,
 "nbformat_minor": 2
}

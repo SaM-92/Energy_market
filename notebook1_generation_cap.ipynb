{
 "cells": [
  {
   "cell_type": "code",
   "execution_count": 3,
   "metadata": {},
   "outputs": [],
   "source": [
    "#inputs\n",
    "\n",
    "input_data = {\n",
    "    \"Investment Cost\": {\"value\": 1021, \"unit\": \"$/kW\"},\n",
    "    \"Expected plant life\": {\"value\": 30, \"unit\": \"years\"},\n",
    "    \"Heat rate at rated output\": {\"value\": 9419, \"unit\": \"Btu/kWh\"},\n",
    "    \"Expected fuel cost\": {\"value\": 1.25, \"unit\": \"$/Mbtu\"},\n",
    "    \"Capacity\": {\"value\": 500, \"unit\": \"MW\"}\n",
    "}\n"
   ]
  },
  {
   "cell_type": "code",
   "execution_count": 5,
   "metadata": {},
   "outputs": [],
   "source": [
    "# Assumptions\n",
    "uf=0.8 # utilisation factor (%)\n",
    "elec_price=32 #energy sell price ($/MWh)"
   ]
  },
  {
   "cell_type": "code",
   "execution_count": 9,
   "metadata": {},
   "outputs": [
    {
     "name": "stdout",
     "output_type": "stream",
     "text": [
      "Investment cost:\t510500000\n",
      "Production:\t3504000.0\n",
      "Production Cost:\t41255220.0\n",
      "Revenue:\t112128000.0\n"
     ]
    }
   ],
   "source": [
    "# calculations \n",
    "\n",
    "investment_cost = input_data['Investment Cost']['value']*input_data['Capacity']['value']*1000  #1000 is required to convert MW to kW\n",
    "print(f\"Investment cost:\\t{investment_cost}\")\n",
    "\n",
    "peroid_of_one_year= 24*365\n",
    "production_power = input_data['Capacity']['value'] * uf * peroid_of_one_year\n",
    "print(f\"Production:\\t{production_power}\")\n",
    "\n",
    "production_cost = production_power * input_data['Heat rate at rated output']['value'] * input_data['Expected fuel cost']['value'] * 0.001 #0.001 is required due to $/Mbtu and Btu/kWh\n",
    "print(f\"Production Cost:\\t{production_cost}\")\n",
    "\n",
    "revenue = production_power * elec_price \n",
    "\n",
    "print(f\"Revenue:\\t{revenue}\")\n",
    "\n"
   ]
  },
  {
   "cell_type": "code",
   "execution_count": 10,
   "metadata": {},
   "outputs": [],
   "source": [
    "# Create a DataFrame\n",
    "import pandas as pd \n",
    "df = pd.DataFrame(columns=[\"Year\", \"Investment\", \"Production\", \"Production Cost\", \"Revenue\", \"Net Cash Flow\"])\n",
    "\n",
    "# Fill the DataFrame\n",
    "for year in range(input_data['Expected plant life']['value'] + 1):\n",
    "    if year == 0:\n",
    "        df.loc[year] = [year, investment_cost, 0, 0, 0, -investment_cost]\n",
    "    else:\n",
    "        df.loc[year] = [year, 0, production_power, production_cost, revenue, revenue - production_cost]"
   ]
  },
  {
   "cell_type": "code",
   "execution_count": 12,
   "metadata": {},
   "outputs": [
    {
     "data": {
      "text/html": [
       "<div>\n",
       "<style scoped>\n",
       "    .dataframe tbody tr th:only-of-type {\n",
       "        vertical-align: middle;\n",
       "    }\n",
       "\n",
       "    .dataframe tbody tr th {\n",
       "        vertical-align: top;\n",
       "    }\n",
       "\n",
       "    .dataframe thead th {\n",
       "        text-align: right;\n",
       "    }\n",
       "</style>\n",
       "<table border=\"1\" class=\"dataframe\">\n",
       "  <thead>\n",
       "    <tr style=\"text-align: right;\">\n",
       "      <th></th>\n",
       "      <th>Year</th>\n",
       "      <th>Investment</th>\n",
       "      <th>Production</th>\n",
       "      <th>Production Cost</th>\n",
       "      <th>Revenue</th>\n",
       "      <th>Net Cash Flow</th>\n",
       "    </tr>\n",
       "  </thead>\n",
       "  <tbody>\n",
       "    <tr>\n",
       "      <th>0</th>\n",
       "      <td>0.0</td>\n",
       "      <td>510500000.0</td>\n",
       "      <td>0.0</td>\n",
       "      <td>0.0</td>\n",
       "      <td>0.0</td>\n",
       "      <td>-510500000.0</td>\n",
       "    </tr>\n",
       "    <tr>\n",
       "      <th>1</th>\n",
       "      <td>1.0</td>\n",
       "      <td>0.0</td>\n",
       "      <td>3504000.0</td>\n",
       "      <td>41255220.0</td>\n",
       "      <td>112128000.0</td>\n",
       "      <td>70872780.0</td>\n",
       "    </tr>\n",
       "    <tr>\n",
       "      <th>2</th>\n",
       "      <td>2.0</td>\n",
       "      <td>0.0</td>\n",
       "      <td>3504000.0</td>\n",
       "      <td>41255220.0</td>\n",
       "      <td>112128000.0</td>\n",
       "      <td>70872780.0</td>\n",
       "    </tr>\n",
       "    <tr>\n",
       "      <th>3</th>\n",
       "      <td>3.0</td>\n",
       "      <td>0.0</td>\n",
       "      <td>3504000.0</td>\n",
       "      <td>41255220.0</td>\n",
       "      <td>112128000.0</td>\n",
       "      <td>70872780.0</td>\n",
       "    </tr>\n",
       "    <tr>\n",
       "      <th>4</th>\n",
       "      <td>4.0</td>\n",
       "      <td>0.0</td>\n",
       "      <td>3504000.0</td>\n",
       "      <td>41255220.0</td>\n",
       "      <td>112128000.0</td>\n",
       "      <td>70872780.0</td>\n",
       "    </tr>\n",
       "  </tbody>\n",
       "</table>\n",
       "</div>"
      ],
      "text/plain": [
       "   Year   Investment  Production  Production Cost      Revenue  Net Cash Flow\n",
       "0   0.0  510500000.0         0.0              0.0          0.0   -510500000.0\n",
       "1   1.0          0.0   3504000.0       41255220.0  112128000.0     70872780.0\n",
       "2   2.0          0.0   3504000.0       41255220.0  112128000.0     70872780.0\n",
       "3   3.0          0.0   3504000.0       41255220.0  112128000.0     70872780.0\n",
       "4   4.0          0.0   3504000.0       41255220.0  112128000.0     70872780.0"
      ]
     },
     "execution_count": 12,
     "metadata": {},
     "output_type": "execute_result"
    }
   ],
   "source": [
    "df.head()"
   ]
  },
  {
   "cell_type": "code",
   "execution_count": 17,
   "metadata": {},
   "outputs": [
    {
     "name": "stdout",
     "output_type": "stream",
     "text": [
      "The Internal Rate of Return (IRR) is: 13.578504268341728%\n"
     ]
    }
   ],
   "source": [
    "import numpy_financial as npf\n",
    "\n",
    "# Convert the \"Net Cash Flow\" column to a list\n",
    "cash_flows = df[\"Net Cash Flow\"].tolist()\n",
    "\n",
    "# Calculate the IRR\n",
    "irr = npf.irr(cash_flows)\n",
    "\n",
    "# Convert IRR to percentage\n",
    "irr_percent = irr * 100\n",
    "\n",
    "print(f\"The Internal Rate of Return (IRR) is: {irr_percent}%\")\n"
   ]
  },
  {
   "cell_type": "code",
   "execution_count": null,
   "metadata": {},
   "outputs": [],
   "source": []
  }
 ],
 "metadata": {
  "kernelspec": {
   "display_name": "base",
   "language": "python",
   "name": "python3"
  },
  "language_info": {
   "codemirror_mode": {
    "name": "ipython",
    "version": 3
   },
   "file_extension": ".py",
   "mimetype": "text/x-python",
   "name": "python",
   "nbconvert_exporter": "python",
   "pygments_lexer": "ipython3",
   "version": "3.9.13"
  }
 },
 "nbformat": 4,
 "nbformat_minor": 2
}
